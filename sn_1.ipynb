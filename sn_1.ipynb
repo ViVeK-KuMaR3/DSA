{
  "nbformat": 4,
  "nbformat_minor": 0,
  "metadata": {
    "colab": {
      "provenance": [],
      "authorship_tag": "ABX9TyPA0QStXG3oGu7rW+r/NlUp",
      "include_colab_link": true
    },
    "kernelspec": {
      "name": "python3",
      "display_name": "Python 3"
    },
    "language_info": {
      "name": "python"
    }
  },
  "cells": [
    {
      "cell_type": "markdown",
      "metadata": {
        "id": "view-in-github",
        "colab_type": "text"
      },
      "source": [
        "<a href=\"https://colab.research.google.com/github/ViVeK-KuMaR3/DSA/blob/main/sn_1.ipynb\" target=\"_parent\"><img src=\"https://colab.research.google.com/assets/colab-badge.svg\" alt=\"Open In Colab\"/></a>"
      ]
    },
    {
      "cell_type": "markdown",
      "source": [
        "#1. Find the duplicates in the array"
      ],
      "metadata": {
        "id": "4L_pVqywjDzp"
      }
    },
    {
      "cell_type": "code",
      "execution_count": 14,
      "metadata": {
        "id": "0n-zVgbuJGjj"
      },
      "outputs": [],
      "source": [
        "def find_duplicates(arr):\n",
        "  visited=set()\n",
        "  duplicates=[]\n",
        "  for i in arr:\n",
        "    if i in visited:\n",
        "      duplicates.append(i)\n",
        "    else:\n",
        "      visited.add(i)\n",
        "  return duplicates\n"
      ]
    },
    {
      "cell_type": "code",
      "source": [
        "arr=[1,2,3,4,3,2,1,32,8,4,9,1,4,1]"
      ],
      "metadata": {
        "id": "fQHLwgfRj5Jy"
      },
      "execution_count": 15,
      "outputs": []
    },
    {
      "cell_type": "code",
      "source": [
        "find_duplicates(arr)"
      ],
      "metadata": {
        "colab": {
          "base_uri": "https://localhost:8080/"
        },
        "id": "6ibuGeN5j__W",
        "outputId": "ac81827c-60fd-49f0-859d-50743dd585a7"
      },
      "execution_count": 16,
      "outputs": [
        {
          "output_type": "execute_result",
          "data": {
            "text/plain": [
              "[3, 2, 1, 4, 1, 4, 1]"
            ]
          },
          "metadata": {},
          "execution_count": 16
        }
      ]
    },
    {
      "cell_type": "markdown",
      "source": [
        "# 2. Find missing value in the array"
      ],
      "metadata": {
        "id": "689emX0vlEBg"
      }
    },
    {
      "cell_type": "code",
      "source": [
        "def find_missing(arr,n):\n",
        "  #n=len(arr)+1\n",
        "  sum_of_nos=(n*(n+1))/2\n",
        "  sum_array=sum(arr)\n",
        "  return int(sum_of_nos-sum_array)"
      ],
      "metadata": {
        "id": "SdSdk8UAkC37"
      },
      "execution_count": 36,
      "outputs": []
    },
    {
      "cell_type": "code",
      "source": [
        "arr=[1,2,3,4,5,6,8]"
      ],
      "metadata": {
        "id": "lookCwSumF-u"
      },
      "execution_count": 37,
      "outputs": []
    },
    {
      "cell_type": "code",
      "source": [
        "find_missing(arr,8)"
      ],
      "metadata": {
        "colab": {
          "base_uri": "https://localhost:8080/"
        },
        "id": "lEb-qfa6mIwb",
        "outputId": "b4ccd446-ff22-422b-9cf8-9346cf4530f2"
      },
      "execution_count": 39,
      "outputs": [
        {
          "output_type": "execute_result",
          "data": {
            "text/plain": [
              "7"
            ]
          },
          "metadata": {},
          "execution_count": 39
        }
      ]
    },
    {
      "cell_type": "markdown",
      "source": [
        "#3. Merge 2 sorted arrays"
      ],
      "metadata": {
        "id": "eCBZD897QnOx"
      }
    },
    {
      "cell_type": "code",
      "source": [
        "\n",
        "def merge_sorted_array(arr1,arr2):\n",
        "  merged_array=[]\n",
        "  k=0\n",
        "  j=0\n",
        "  while k< len(arr1) and j<len(arr2):\n",
        "\n",
        "    if arr1[k]<arr2[j]:\n",
        "      merged_array.append(arr1[k])\n",
        "      k+=1\n",
        "    else:\n",
        "      merged_array.append(arr2[j])\n",
        "      j+=1\n",
        "\n",
        "\n",
        "  merged_array.extend(arr2[j:])\n",
        "  merged_array.extend(arr1[k:])\n",
        "\n",
        "\n",
        "\n",
        "  return merged_array\n",
        "\n",
        "\n",
        "\n",
        "\n",
        "\n",
        "\n",
        "\n",
        "\n",
        ""
      ],
      "metadata": {
        "id": "0qweZCrPmKvM"
      },
      "execution_count": 99,
      "outputs": []
    },
    {
      "cell_type": "code",
      "source": [
        "def merge_sorted_array_p2(arr1,arr2):\n",
        "\n",
        "  return sorted(arr1+arr2)"
      ],
      "metadata": {
        "id": "SEvE8PXXcoLV"
      },
      "execution_count": 102,
      "outputs": []
    },
    {
      "cell_type": "code",
      "source": [
        "arr1=[1,3,5]\n",
        "arr2=[2,4,6,8,10]"
      ],
      "metadata": {
        "id": "HJpXefeeQmr0"
      },
      "execution_count": 100,
      "outputs": []
    },
    {
      "cell_type": "code",
      "source": [
        "merge_sorted_array(arr1,arr2)"
      ],
      "metadata": {
        "colab": {
          "base_uri": "https://localhost:8080/"
        },
        "id": "7PTiEn_VTBcN",
        "outputId": "5a2d372a-408b-4530-d511-4af11088f461"
      },
      "execution_count": 101,
      "outputs": [
        {
          "output_type": "execute_result",
          "data": {
            "text/plain": [
              "[1, 2, 3, 4, 5, 6, 8, 10]"
            ]
          },
          "metadata": {},
          "execution_count": 101
        }
      ]
    },
    {
      "cell_type": "code",
      "source": [
        "merge_sorted_array_p2(arr1,arr2)"
      ],
      "metadata": {
        "colab": {
          "base_uri": "https://localhost:8080/"
        },
        "id": "9SyqKsyNUIEH",
        "outputId": "b10ea09f-c62c-416c-d974-41e410600dc4"
      },
      "execution_count": 103,
      "outputs": [
        {
          "output_type": "execute_result",
          "data": {
            "text/plain": [
              "[1, 2, 3, 4, 5, 6, 8, 10]"
            ]
          },
          "metadata": {},
          "execution_count": 103
        }
      ]
    },
    {
      "cell_type": "markdown",
      "source": [
        "#4. Put 0s in front"
      ],
      "metadata": {
        "id": "zctVX5zeejvx"
      }
    },
    {
      "cell_type": "code",
      "source": [
        "def move_zero_front(arr):\n",
        "  n_zero=[]\n",
        "  zero=[]\n",
        "  for i in arr:\n",
        "    if i==0:\n",
        "      zero.append(i)\n",
        "    else:\n",
        "      n_zero.append(i)\n",
        "  return zero+n_zero"
      ],
      "metadata": {
        "id": "x6mqUItmczSD"
      },
      "execution_count": 107,
      "outputs": []
    },
    {
      "cell_type": "code",
      "source": [
        "arr=[1,2,3,0,7,0,5,0,0]"
      ],
      "metadata": {
        "id": "cqmkZ6pwe7Ft"
      },
      "execution_count": 108,
      "outputs": []
    },
    {
      "cell_type": "code",
      "source": [
        "move_zero_front(arr)"
      ],
      "metadata": {
        "colab": {
          "base_uri": "https://localhost:8080/"
        },
        "id": "4SPun6dze_j2",
        "outputId": "64eff464-d9bb-441a-ca39-1e4e7e09724d"
      },
      "execution_count": 109,
      "outputs": [
        {
          "output_type": "execute_result",
          "data": {
            "text/plain": [
              "[0, 0, 0, 0, 1, 2, 3, 7, 5]"
            ]
          },
          "metadata": {},
          "execution_count": 109
        }
      ]
    },
    {
      "cell_type": "code",
      "source": [
        "def move_zero_beginning(arr):\n",
        "  index=len(arr)-1\n",
        "  for i in range(len(arr)-1):\n",
        "    if arr[index]==0:\n",
        "      arr.pop(index)\n",
        "      arr.insert(0,0)\n",
        "    else:\n",
        "      index=index-1\n",
        "\n",
        "      #print(arr)\n",
        "\n",
        "  return arr"
      ],
      "metadata": {
        "id": "5s7PrLqDfBKW"
      },
      "execution_count": 50,
      "outputs": []
    },
    {
      "cell_type": "code",
      "source": [
        "#arr=[0,1,2,0,3,0,7,0,5,0,0,4,0,0]\n",
        "arr=[5]"
      ],
      "metadata": {
        "id": "ZBJ65NeBrhZM"
      },
      "execution_count": 65,
      "outputs": []
    },
    {
      "cell_type": "code",
      "source": [
        "move_zero_beginning(arr)"
      ],
      "metadata": {
        "colab": {
          "base_uri": "https://localhost:8080/"
        },
        "id": "YwYC6syQrknn",
        "outputId": "588ff265-9137-4e2f-eed3-ea09906f77b8"
      },
      "execution_count": 66,
      "outputs": [
        {
          "output_type": "execute_result",
          "data": {
            "text/plain": [
              "[5]"
            ]
          },
          "metadata": {},
          "execution_count": 66
        }
      ]
    },
    {
      "cell_type": "code",
      "source": [
        "def move_zer_to_right(arr):\n",
        "  index=0\n",
        "  for i in range(len(arr)-1):\n",
        "    if arr[index]==0:\n",
        "      arr.pop(index)\n",
        "      arr.insert(len(arr)-1,0)\n",
        "    else:\n",
        "      index=index+1\n",
        "\n",
        "  return arr"
      ],
      "metadata": {
        "id": "vjIWWI83rmxO"
      },
      "execution_count": 70,
      "outputs": []
    },
    {
      "cell_type": "code",
      "source": [
        "arr=[0,10,0,0,2,0,3,0,7,0,5,0,0,4,0,0]"
      ],
      "metadata": {
        "id": "2QRqfFECD8OQ"
      },
      "execution_count": 73,
      "outputs": []
    },
    {
      "cell_type": "code",
      "source": [
        "move_zer_to_right(arr)"
      ],
      "metadata": {
        "colab": {
          "base_uri": "https://localhost:8080/"
        },
        "id": "8yfcexcrD__R",
        "outputId": "0041100b-5968-42c1-8117-a5dda587160d"
      },
      "execution_count": 74,
      "outputs": [
        {
          "output_type": "execute_result",
          "data": {
            "text/plain": [
              "[10, 2, 3, 7, 5, 4, 0, 0, 0, 0, 0, 0, 0, 0, 0, 0]"
            ]
          },
          "metadata": {},
          "execution_count": 74
        }
      ]
    },
    {
      "cell_type": "code",
      "source": [],
      "metadata": {
        "id": "VQMMnkimEBPG"
      },
      "execution_count": null,
      "outputs": []
    }
  ]
}